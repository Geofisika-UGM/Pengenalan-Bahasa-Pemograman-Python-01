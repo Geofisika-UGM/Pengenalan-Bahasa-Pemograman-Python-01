{
  "nbformat": 4,
  "nbformat_minor": 5,
  "metadata": {
    "kernelspec": {
      "display_name": "Python 3 (ipykernel)",
      "language": "python",
      "name": "python3"
    },
    "language_info": {
      "codemirror_mode": {
        "name": "ipython",
        "version": 3
      },
      "file_extension": ".py",
      "mimetype": "text/x-python",
      "name": "python",
      "nbconvert_exporter": "python",
      "pygments_lexer": "ipython3",
      "version": "3.8.10"
    },
    "colab": {
      "provenance": [],
      "collapsed_sections": []
    }
  },
  "cells": [
    {
      "cell_type": "markdown",
      "source": [
        "# Basic Python Module\n",
        "\n",
        "<div style=\"background-color: #28a745 !important; color: white; min-height: 50px; padding: 10px; margin: auto;\">\n",
        "  <p><strong>Tim penyusun modul Dasar-dasar Python:</strong></p>\n",
        "  <ul>\n",
        "      <li>Dr. rer.nat. Wiwit Suryanto, M.Si.</li>\n",
        "      <li>Dr. T. Marwan Irnaka, M.Sc.</li>\n",
        "      <li>Dr. Shidiq Nur Hidayat, S.Si., M.Sc.</li>\n",
        "      <li>Theodorus Permana, S.Si., M.Sc., Ph.D.</li>\n",
        "  </ul>\n",
        "</div>\n",
        "\n",
        "<div style=\"background-color: whitesmoke; padding: 10px \">\n",
        "    <p><strong>Tujuan:</strong></p>\n",
        "    <ul>\n",
        "        <li>Memperkenalkan dasar pemrograman Python</li>\n",
        "    </ul>\n",
        "    <p><strong>Keluaran:</strong></p>\n",
        "    <ul>\n",
        "        <li>Peserta dapat menjalankan Python dan memahami penggunaannya</li>\n",
        "    </ul>\n",
        "    <p><strong>Waktu/Tempat:</strong></p>\n",
        "    <ul>\n",
        "        <li>Rabu, 7 September 2022 / Daring / Short Course PIT HAGI 47th</li>\n",
        "    </ul>\n",
        "</div>"
      ],
      "metadata": {
        "id": "bCX0m2PWnmQ6"
      },
      "id": "bCX0m2PWnmQ6"
    },
    {
      "cell_type": "code",
      "source": [
        "# from google.colab import drive\n",
        "# drive.mount('/content/drive')"
      ],
      "metadata": {
        "colab": {
          "base_uri": "https://localhost:8080/"
        },
        "id": "Kcu58Ypht8lQ",
        "outputId": "80356c66-dfec-4b3c-ea58-e6ad32c53328"
      },
      "id": "Kcu58Ypht8lQ",
      "execution_count": null,
      "outputs": [
        {
          "output_type": "stream",
          "name": "stdout",
          "text": [
            "Drive already mounted at /content/drive; to attempt to forcibly remount, call drive.mount(\"/content/drive\", force_remount=True).\n"
          ]
        }
      ]
    },
    {
      "cell_type": "markdown",
      "metadata": {
        "id": "19875e60"
      },
      "source": [
        "Workshop ini akan **menggunakan bahasa pemrograman Python** untuk mengimplementasikan pengolahan ANT dari data seismik **sampai mendapatkan kurva dispersi**. Karena tidak dilakukan di perangkat lunak siap pakai, implementasi akan dilakukan *from scratch* sehingga peserta diharapkan dapat dengan lebih detail mendapatkan gambaran setiap prosesnya. Python dipilih sebagai bahasa pemrograman yang digunakan karena tergolong paling mudah digunakan dan sudah didukung banyak *library* yang dibutuhkan untuk pengolahan ANT. Sebelum spesifik ke implementasi ANT menggunakan Python, kita akan terlebih dahulu mempelajari secara sekilas dasar bahasa pemrograman Python:"
      ],
      "id": "19875e60"
    },
    {
      "cell_type": "markdown",
      "metadata": {
        "id": "5b084159"
      },
      "source": [
        "# 1 Variabel dan Operasi\n",
        "\n",
        "## 1.1 Variabel\n",
        "Variabel adalah suatu nilai yang kita simpan di memori dan bisa kita panggil saat akan digunakan. Contoh kasus variabel adalah seperti saat kita menyimpan memori di otak kita bahwa nilai $\\pi$ (variabel) adalah 3,14. Saat mengingat atau memanggil $\\pi$ di memori otak kita maka akan muncul angka 3,14. Cara kerja komputer juga demikian sehingga Python sebagai salah satu bahasa pemrograman juga bertindak seperti itu. Dalam implementasinya cara 'menyimpan ingatan' ini dilakukan dengan cara yang mudah:"
      ],
      "id": "5b084159"
    },
    {
      "cell_type": "code",
      "metadata": {
        "id": "3e450281"
      },
      "source": [
        "pi=3.14"
      ],
      "id": "3e450281",
      "execution_count": null,
      "outputs": []
    },
    {
      "cell_type": "markdown",
      "metadata": {
        "id": "4618f615"
      },
      "source": [
        "Pada contoh di atas kita menyimpan di ingatan komputer bahwa nilai `pi` adalah `3.14`, dengan begitu kita dapat memanggilnya dengan cara:"
      ],
      "id": "4618f615"
    },
    {
      "cell_type": "code",
      "metadata": {
        "colab": {
          "base_uri": "https://localhost:8080/"
        },
        "id": "3a890a9b",
        "outputId": "d8822bca-bb8c-43c8-da31-82727858f5bb"
      },
      "source": [
        "pi"
      ],
      "id": "3a890a9b",
      "execution_count": null,
      "outputs": [
        {
          "output_type": "execute_result",
          "data": {
            "text/plain": [
              "3.14"
            ]
          },
          "metadata": {},
          "execution_count": 7
        }
      ]
    },
    {
      "cell_type": "markdown",
      "metadata": {
        "id": "c591e8fe"
      },
      "source": [
        "Variabel dalam Python sendiri dibedakan menjadi beberapa jenis seperti:\n",
        "- `Integer`: bilangan bulat\n",
        "- `Float`: *floating point*, bilangan dengan desimal\n",
        "- `String`: teks\n",
        "- `Complex numbers`: bilangan kompleks\n",
        "- `Boolean`: benar (`True`) atau salah (`False`)\n",
        "\n",
        "Python akan menginterpretasikan jenis variabel dari **cara kita menulis** variabel tersebut:"
      ],
      "id": "c591e8fe"
    },
    {
      "cell_type": "code",
      "metadata": {
        "id": "027f85f1"
      },
      "source": [
        "angka=1 #integer\n",
        "Angka=1.0 #float\n",
        "ANGKA=\"1\" #string\n",
        "ANGKA2='1' #string\n",
        "bil_kompleks=5-1j #complex\n",
        "bools=True #boolean True atau False"
      ],
      "id": "027f85f1",
      "execution_count": null,
      "outputs": []
    },
    {
      "cell_type": "code",
      "source": [
        "angka"
      ],
      "metadata": {
        "colab": {
          "base_uri": "https://localhost:8080/"
        },
        "id": "baHkpvuVzy1c",
        "outputId": "a5ab706f-618b-4ebd-fad7-4ed2a66b39d5"
      },
      "id": "baHkpvuVzy1c",
      "execution_count": null,
      "outputs": [
        {
          "output_type": "execute_result",
          "data": {
            "text/plain": [
              "1"
            ]
          },
          "metadata": {},
          "execution_count": 11
        }
      ]
    },
    {
      "cell_type": "markdown",
      "metadata": {
        "id": "f9f89077"
      },
      "source": [
        "Sama seperti ingatan manusia, jika suatu menyimpan ke memori dengan kata kunci yang sama maka nilai sebelumnya akan dilupakan, contoh:"
      ],
      "id": "f9f89077"
    },
    {
      "cell_type": "code",
      "metadata": {
        "id": "f17b288f"
      },
      "source": [
        "angka=2"
      ],
      "id": "f17b288f",
      "execution_count": null,
      "outputs": []
    },
    {
      "cell_type": "code",
      "metadata": {
        "colab": {
          "base_uri": "https://localhost:8080/"
        },
        "id": "43ba2b1a",
        "outputId": "1227603c-3999-45d9-8ba6-6e0ef8e198e6"
      },
      "source": [
        "angka"
      ],
      "id": "43ba2b1a",
      "execution_count": null,
      "outputs": [
        {
          "output_type": "execute_result",
          "data": {
            "text/plain": [
              "2"
            ]
          },
          "metadata": {},
          "execution_count": 13
        }
      ]
    },
    {
      "cell_type": "markdown",
      "metadata": {
        "id": "1c1f23a0"
      },
      "source": [
        "Saat kita panggil `angka` maka `2` yang akan muncul, bagaimana kalau nilai `angka` kita ganti:"
      ],
      "id": "1c1f23a0"
    },
    {
      "cell_type": "code",
      "metadata": {
        "id": "4a06b635"
      },
      "source": [
        "angka=3"
      ],
      "id": "4a06b635",
      "execution_count": null,
      "outputs": []
    },
    {
      "cell_type": "code",
      "metadata": {
        "colab": {
          "base_uri": "https://localhost:8080/"
        },
        "id": "2a59b5a5",
        "outputId": "8b1e5d52-9504-4a8a-ddad-ef33291d5f85"
      },
      "source": [
        "angka"
      ],
      "id": "2a59b5a5",
      "execution_count": null,
      "outputs": [
        {
          "output_type": "execute_result",
          "data": {
            "text/plain": [
              "3"
            ]
          },
          "metadata": {},
          "execution_count": 15
        }
      ]
    },
    {
      "cell_type": "markdown",
      "metadata": {
        "id": "8bb02248"
      },
      "source": [
        "## 1.2 Operasi\n",
        "\n",
        "Jika kita sudah bisa menyimpan suatu nilai ke dalam ingatan komputer dengan mendefinisikan suatu `variable`, selanjutnya kita akan mengoperasikan variabel-variabel tersebut. Beberapa operasi standar yang dapat kita lakukan adalah:\n",
        "\n",
        "|Simbol Operasi|\tKegunaan\t|\n",
        "|----|-----|\n",
        "|**+**\t|penjumlahan |\n",
        "|**-** | pengurangan |\n",
        "|**\\***|  perkalian|\n",
        "| **/** | pembagian |\n",
        "|  **%** | mengembalikan sisa pembagian (_modulo_).|\n",
        "| **\\*\\*** |pangkat|\n",
        "|**+=** | menambah dan mengganti |\n",
        "| **-=** | mengurangkan dan mengganti |\n",
        "| ==  | mengetes kesamaan |\n",
        "| != | mengetes ketidaksamaan |\n",
        "\n",
        "Contoh implementasi operasi-operasi di atas:"
      ],
      "id": "8bb02248"
    },
    {
      "cell_type": "code",
      "metadata": {
        "colab": {
          "base_uri": "https://localhost:8080/"
        },
        "id": "19956727",
        "outputId": "b95899c9-d3ad-4479-877d-db9dd8238cc7"
      },
      "source": [
        "angka1=3\n",
        "angka2=5\n",
        "angka3=angka1+angka2\n",
        "print(angka3)"
      ],
      "id": "19956727",
      "execution_count": null,
      "outputs": [
        {
          "output_type": "stream",
          "name": "stdout",
          "text": [
            "8\n"
          ]
        }
      ]
    },
    {
      "cell_type": "code",
      "metadata": {
        "colab": {
          "base_uri": "https://localhost:8080/"
        },
        "id": "7b6470c6",
        "outputId": "166170fa-e592-4eae-86f9-ffab179cbed2"
      },
      "source": [
        "angka4=angka1-angka3\n",
        "print(angka4)"
      ],
      "id": "7b6470c6",
      "execution_count": null,
      "outputs": [
        {
          "output_type": "stream",
          "name": "stdout",
          "text": [
            "-5\n"
          ]
        }
      ]
    },
    {
      "cell_type": "code",
      "metadata": {
        "colab": {
          "base_uri": "https://localhost:8080/"
        },
        "id": "972723f6",
        "outputId": "e0515a6f-4be8-4947-adf7-a85502b6ce9f"
      },
      "source": [
        "angka5=angka1**angka2\n",
        "print(angka5)"
      ],
      "id": "972723f6",
      "execution_count": null,
      "outputs": [
        {
          "output_type": "stream",
          "name": "stdout",
          "text": [
            "243\n"
          ]
        }
      ]
    },
    {
      "cell_type": "code",
      "metadata": {
        "id": "Bs-H1JWx0nmj"
      },
      "source": [
        "angka5 = 5"
      ],
      "id": "Bs-H1JWx0nmj",
      "execution_count": null,
      "outputs": []
    },
    {
      "cell_type": "code",
      "metadata": {
        "colab": {
          "base_uri": "https://localhost:8080/"
        },
        "id": "mSKiMCso0qf6",
        "outputId": "146a50e4-7922-49bb-eab1-608dbb8062e7"
      },
      "source": [
        "angka5"
      ],
      "id": "mSKiMCso0qf6",
      "execution_count": null,
      "outputs": [
        {
          "output_type": "execute_result",
          "data": {
            "text/plain": [
              "5"
            ]
          },
          "metadata": {},
          "execution_count": 20
        }
      ]
    },
    {
      "cell_type": "code",
      "metadata": {
        "id": "MvLk1mMS0sN3"
      },
      "source": [
        "angka5 += 1"
      ],
      "id": "MvLk1mMS0sN3",
      "execution_count": null,
      "outputs": []
    },
    {
      "cell_type": "code",
      "metadata": {
        "colab": {
          "base_uri": "https://localhost:8080/"
        },
        "id": "SyFaYC_E03_O",
        "outputId": "971f1d29-492b-45e4-ccf3-988fd743b955"
      },
      "source": [
        "angka5"
      ],
      "id": "SyFaYC_E03_O",
      "execution_count": null,
      "outputs": [
        {
          "output_type": "execute_result",
          "data": {
            "text/plain": [
              "6"
            ]
          },
          "metadata": {},
          "execution_count": 22
        }
      ]
    },
    {
      "cell_type": "markdown",
      "metadata": {
        "id": "40cf7783"
      },
      "source": [
        "Jenis variabel yang dioperasikan akan berpengaruh terhadap hasil operasinya, misalkan operasi perkalian antar `integer`:"
      ],
      "id": "40cf7783"
    },
    {
      "cell_type": "code",
      "metadata": {
        "colab": {
          "base_uri": "https://localhost:8080/"
        },
        "id": "23c1b49d",
        "outputId": "763e3c11-31c5-4f1b-cc73-4cec91c6a7db"
      },
      "source": [
        "10*10"
      ],
      "id": "23c1b49d",
      "execution_count": null,
      "outputs": [
        {
          "output_type": "execute_result",
          "data": {
            "text/plain": [
              "100"
            ]
          },
          "metadata": {},
          "execution_count": 23
        }
      ]
    },
    {
      "cell_type": "code",
      "source": [
        "type(10*10)"
      ],
      "metadata": {
        "colab": {
          "base_uri": "https://localhost:8080/"
        },
        "id": "eyvC9LNo0_R9",
        "outputId": "44cd17a2-2025-45be-b14e-a4cb042f052f"
      },
      "id": "eyvC9LNo0_R9",
      "execution_count": null,
      "outputs": [
        {
          "output_type": "execute_result",
          "data": {
            "text/plain": [
              "int"
            ]
          },
          "metadata": {},
          "execution_count": 24
        }
      ]
    },
    {
      "cell_type": "markdown",
      "metadata": {
        "id": "1e27bab4"
      },
      "source": [
        "Hasil operasi di atas berupa `integer` karena variabel yang dikalikan sama-sama `integer`. Jika salah satu atau kedua data merupakan `float` maka hasil dari operasi akan berjenis `float`:"
      ],
      "id": "1e27bab4"
    },
    {
      "cell_type": "code",
      "metadata": {
        "colab": {
          "base_uri": "https://localhost:8080/"
        },
        "id": "53b2192a",
        "outputId": "89ce2205-a697-47a5-f183-3ee4fe0bcd54"
      },
      "source": [
        "10*10.0"
      ],
      "id": "53b2192a",
      "execution_count": null,
      "outputs": [
        {
          "output_type": "execute_result",
          "data": {
            "text/plain": [
              "100.0"
            ]
          },
          "metadata": {},
          "execution_count": 25
        }
      ]
    },
    {
      "cell_type": "code",
      "source": [
        "type(10*10.0)"
      ],
      "metadata": {
        "colab": {
          "base_uri": "https://localhost:8080/"
        },
        "id": "59prDe0a1H00",
        "outputId": "49041d82-0368-4df5-fc18-03c509b363f7"
      },
      "id": "59prDe0a1H00",
      "execution_count": null,
      "outputs": [
        {
          "output_type": "execute_result",
          "data": {
            "text/plain": [
              "float"
            ]
          },
          "metadata": {},
          "execution_count": 26
        }
      ]
    },
    {
      "cell_type": "markdown",
      "metadata": {
        "id": "9430e6c8"
      },
      "source": [
        "Bagaimana dengan operasi `string`?"
      ],
      "id": "9430e6c8"
    },
    {
      "cell_type": "code",
      "metadata": {
        "colab": {
          "base_uri": "https://localhost:8080/",
          "height": 35
        },
        "id": "defa9c0f",
        "outputId": "0fd74508-1bd4-4e86-8689-c79f64843b92"
      },
      "source": [
        "\"1\"+\"3\""
      ],
      "id": "defa9c0f",
      "execution_count": null,
      "outputs": [
        {
          "output_type": "execute_result",
          "data": {
            "text/plain": [
              "'13'"
            ],
            "application/vnd.google.colaboratory.intrinsic+json": {
              "type": "string"
            }
          },
          "metadata": {},
          "execution_count": 27
        }
      ]
    },
    {
      "cell_type": "code",
      "metadata": {
        "colab": {
          "base_uri": "https://localhost:8080/",
          "height": 165
        },
        "id": "23215995",
        "outputId": "2c4c0b76-c0c2-45f1-d997-1334408205eb"
      },
      "source": [
        "\"13\"-\"3\""
      ],
      "id": "23215995",
      "execution_count": null,
      "outputs": [
        {
          "output_type": "error",
          "ename": "TypeError",
          "evalue": "ignored",
          "traceback": [
            "\u001b[0;31m---------------------------------------------------------------------------\u001b[0m",
            "\u001b[0;31mTypeError\u001b[0m                                 Traceback (most recent call last)",
            "\u001b[0;32m<ipython-input-28-eb9139d5589d>\u001b[0m in \u001b[0;36m<module>\u001b[0;34m()\u001b[0m\n\u001b[0;32m----> 1\u001b[0;31m \u001b[0;34m\"13\"\u001b[0m\u001b[0;34m-\u001b[0m\u001b[0;34m\"3\"\u001b[0m\u001b[0;34m\u001b[0m\u001b[0;34m\u001b[0m\u001b[0m\n\u001b[0m",
            "\u001b[0;31mTypeError\u001b[0m: unsupported operand type(s) for -: 'str' and 'str'"
          ]
        }
      ]
    },
    {
      "cell_type": "markdown",
      "metadata": {
        "id": "d7b4b0e8"
      },
      "source": [
        "Operasi penjumlahan pada `string` akan 'menumpuk' string tersebut sedangkan operasi pengurangan tidak bisa dijalankan. Operasi perkalian antar `string` juga akan menghasilkan error:"
      ],
      "id": "d7b4b0e8"
    },
    {
      "cell_type": "code",
      "metadata": {
        "colab": {
          "base_uri": "https://localhost:8080/",
          "height": 165
        },
        "id": "27e1306c",
        "outputId": "ba984fa0-3c13-4933-c340-aaefef42950a"
      },
      "source": [
        "\"1\"*\"3\""
      ],
      "id": "27e1306c",
      "execution_count": null,
      "outputs": [
        {
          "output_type": "error",
          "ename": "TypeError",
          "evalue": "ignored",
          "traceback": [
            "\u001b[0;31m---------------------------------------------------------------------------\u001b[0m",
            "\u001b[0;31mTypeError\u001b[0m                                 Traceback (most recent call last)",
            "\u001b[0;32m<ipython-input-29-4c9654e4aaf1>\u001b[0m in \u001b[0;36m<module>\u001b[0;34m()\u001b[0m\n\u001b[0;32m----> 1\u001b[0;31m \u001b[0;34m\"1\"\u001b[0m\u001b[0;34m*\u001b[0m\u001b[0;34m\"3\"\u001b[0m\u001b[0;34m\u001b[0m\u001b[0;34m\u001b[0m\u001b[0m\n\u001b[0m",
            "\u001b[0;31mTypeError\u001b[0m: can't multiply sequence by non-int of type 'str'"
          ]
        }
      ]
    },
    {
      "cell_type": "markdown",
      "metadata": {
        "id": "6425e6e2"
      },
      "source": [
        "`string` bisa dikalikan dengan `integer`, hasil perkalian ini berupa penumpukan string sebanyak angka yang dikalikan:"
      ],
      "id": "6425e6e2"
    },
    {
      "cell_type": "code",
      "metadata": {
        "colab": {
          "base_uri": "https://localhost:8080/",
          "height": 35
        },
        "id": "b08cb945",
        "outputId": "294b92d0-df40-42ac-8137-bf0f6b88ea7a"
      },
      "source": [
        "\"1\"*10"
      ],
      "id": "b08cb945",
      "execution_count": null,
      "outputs": [
        {
          "output_type": "execute_result",
          "data": {
            "text/plain": [
              "'1111111111'"
            ],
            "application/vnd.google.colaboratory.intrinsic+json": {
              "type": "string"
            }
          },
          "metadata": {},
          "execution_count": 30
        }
      ]
    },
    {
      "cell_type": "markdown",
      "metadata": {
        "id": "3ab85d86"
      },
      "source": [
        "operasi dengan `float` akan menghasilkan error:"
      ],
      "id": "3ab85d86"
    },
    {
      "cell_type": "code",
      "metadata": {
        "colab": {
          "base_uri": "https://localhost:8080/",
          "height": 165
        },
        "id": "4b7ebec5",
        "outputId": "4bf9d333-e435-4b27-ee49-0bf885f9ec16"
      },
      "source": [
        "\"1\"*3."
      ],
      "id": "4b7ebec5",
      "execution_count": null,
      "outputs": [
        {
          "output_type": "error",
          "ename": "TypeError",
          "evalue": "ignored",
          "traceback": [
            "\u001b[0;31m---------------------------------------------------------------------------\u001b[0m",
            "\u001b[0;31mTypeError\u001b[0m                                 Traceback (most recent call last)",
            "\u001b[0;32m<ipython-input-31-555329547ba0>\u001b[0m in \u001b[0;36m<module>\u001b[0;34m()\u001b[0m\n\u001b[0;32m----> 1\u001b[0;31m \u001b[0;34m\"1\"\u001b[0m\u001b[0;34m*\u001b[0m\u001b[0;36m3.\u001b[0m\u001b[0;34m\u001b[0m\u001b[0;34m\u001b[0m\u001b[0m\n\u001b[0m",
            "\u001b[0;31mTypeError\u001b[0m: can't multiply sequence by non-int of type 'float'"
          ]
        }
      ]
    },
    {
      "cell_type": "code",
      "source": [
        "\"1\"*int(3.)"
      ],
      "metadata": {
        "colab": {
          "base_uri": "https://localhost:8080/",
          "height": 35
        },
        "id": "DPcD7WBs107O",
        "outputId": "d6e1dffc-2514-49ce-a5ec-dbeaaaa4da63"
      },
      "id": "DPcD7WBs107O",
      "execution_count": null,
      "outputs": [
        {
          "output_type": "execute_result",
          "data": {
            "text/plain": [
              "'111'"
            ],
            "application/vnd.google.colaboratory.intrinsic+json": {
              "type": "string"
            }
          },
          "metadata": {},
          "execution_count": 32
        }
      ]
    },
    {
      "cell_type": "markdown",
      "source": [
        "Apa yang terjadi apabila kita merubah 3.4 menjadi integer\n",
        "int(3.4) --> 3 atau 4?\n",
        "int(3.6) --> 3 atau 4?"
      ],
      "metadata": {
        "id": "IASAV4vr1_Nu"
      },
      "id": "IASAV4vr1_Nu"
    },
    {
      "cell_type": "markdown",
      "metadata": {
        "id": "8cf12b55"
      },
      "source": [
        "# 2 Struktur Data\n",
        "\n",
        "Data dalam geofisika biasanya merupakan kumpulan nilai atau angka yang erat kaitannya dengan pengukuran. Kita akan menggunakan studi kasus pengukuran suhu suatu ruangan setiap 4 jam dalam satu hari, dengan kata lain kita akan memiliki 6 angka hasil pengukuran. Bagaimana mewakili 6 angka tersebut dalam Python?\n",
        "\n",
        "Python menyediakan beberapa jenis struktur data yang bisa digunakan untuk menyimpan data kita yang masing-masing memiliki fungsinya sendiri. Beberapa jenis struktur data yang umum di dalam Python adalah:\n",
        "- `List`\n",
        "- `Tuple`\n",
        "- `Dictionary`\n",
        "- `Sets`"
      ],
      "id": "8cf12b55"
    },
    {
      "cell_type": "markdown",
      "metadata": {
        "id": "5dd9cfd1"
      },
      "source": [
        "## 2.1 List\n",
        "\n",
        "`List` ditulis dalam Python dengan `[]` yang bisa diisi berbagai macam variable yang sama ataupun berbeda dan masing-masing variabel tersebut dipisahkan dengan tanda koma (`,`):"
      ],
      "id": "5dd9cfd1"
    },
    {
      "cell_type": "code",
      "metadata": {
        "colab": {
          "base_uri": "https://localhost:8080/"
        },
        "id": "caaf9e0e",
        "outputId": "1e97436e-1907-4cdf-cb55-b7b0848970e8"
      },
      "source": [
        "suhu_24h=[34.0, 35.0, 34.3, 32.0, 31.1, 29.0]\n",
        "print(suhu_24h)"
      ],
      "id": "caaf9e0e",
      "execution_count": null,
      "outputs": [
        {
          "output_type": "stream",
          "name": "stdout",
          "text": [
            "[34.0, 35.0, 34.3, 32.0, 31.1, 29.0]\n"
          ]
        }
      ]
    },
    {
      "cell_type": "code",
      "source": [
        "type(suhu_24h)"
      ],
      "metadata": {
        "colab": {
          "base_uri": "https://localhost:8080/"
        },
        "id": "FpNiqHuK35gT",
        "outputId": "d1511293-62ce-46ea-c9d6-7290e378bbcc"
      },
      "id": "FpNiqHuK35gT",
      "execution_count": null,
      "outputs": [
        {
          "output_type": "execute_result",
          "data": {
            "text/plain": [
              "list"
            ]
          },
          "metadata": {},
          "execution_count": 34
        }
      ]
    },
    {
      "cell_type": "code",
      "source": [
        "suhu_x=[10, 35.0, \"ini komponen list\", 32.0, False, 29.0]"
      ],
      "metadata": {
        "id": "azHxj5PI4BOX"
      },
      "id": "azHxj5PI4BOX",
      "execution_count": null,
      "outputs": []
    },
    {
      "cell_type": "code",
      "source": [
        "print(suhu_x)"
      ],
      "metadata": {
        "colab": {
          "base_uri": "https://localhost:8080/"
        },
        "id": "_FwZ59eZ4O9r",
        "outputId": "9ab6922b-315d-44a8-8516-1c5ace52a91f"
      },
      "id": "_FwZ59eZ4O9r",
      "execution_count": null,
      "outputs": [
        {
          "output_type": "stream",
          "name": "stdout",
          "text": [
            "[10, 35.0, 'ini komponen list', 32.0, False, 29.0]\n"
          ]
        }
      ]
    },
    {
      "cell_type": "code",
      "source": [
        "suhu_24h*suhu_24h"
      ],
      "metadata": {
        "colab": {
          "base_uri": "https://localhost:8080/",
          "height": 165
        },
        "id": "HNPsEl3F4XW9",
        "outputId": "cd32538b-9fd9-40be-eed7-d33b84815fa2"
      },
      "id": "HNPsEl3F4XW9",
      "execution_count": null,
      "outputs": [
        {
          "output_type": "error",
          "ename": "TypeError",
          "evalue": "ignored",
          "traceback": [
            "\u001b[0;31m---------------------------------------------------------------------------\u001b[0m",
            "\u001b[0;31mTypeError\u001b[0m                                 Traceback (most recent call last)",
            "\u001b[0;32m<ipython-input-38-a2d785108e7e>\u001b[0m in \u001b[0;36m<module>\u001b[0;34m()\u001b[0m\n\u001b[0;32m----> 1\u001b[0;31m \u001b[0msuhu_24h\u001b[0m\u001b[0;34m*\u001b[0m\u001b[0msuhu_24h\u001b[0m\u001b[0;34m\u001b[0m\u001b[0;34m\u001b[0m\u001b[0m\n\u001b[0m",
            "\u001b[0;31mTypeError\u001b[0m: can't multiply sequence by non-int of type 'list'"
          ]
        }
      ]
    },
    {
      "cell_type": "markdown",
      "metadata": {
        "id": "4753197b"
      },
      "source": [
        "dalam kasus pengukuran suhu ruangan tersebut kita mendapatkan 6 angka pengukuran yang kemudian dituangkan dalam `list` di Python seperti di atas. Setiap element `list` berasosiasi dengan `index` yang dimulai dengan angka 0 pada element pertama dan seterusnya. Contoh apabila kita ingin mengambil pengukuran ketiga maka `index`nya adalah 2:"
      ],
      "id": "4753197b"
    },
    {
      "cell_type": "code",
      "metadata": {
        "colab": {
          "base_uri": "https://localhost:8080/"
        },
        "id": "5963709b",
        "outputId": "7a163940-700d-4d8a-caf0-93fe72117b6d"
      },
      "source": [
        "pengukuran_3=suhu_24h[2]\n",
        "print(pengukuran_3)"
      ],
      "id": "5963709b",
      "execution_count": null,
      "outputs": [
        {
          "output_type": "stream",
          "name": "stdout",
          "text": [
            "34.3\n"
          ]
        }
      ]
    },
    {
      "cell_type": "markdown",
      "metadata": {
        "id": "9a5d7957"
      },
      "source": [
        "Kita juga dapat memanggil dari belakang dengan `index` -1 untuk element terakhir, -2 untuk element kedua dari akhir, dan seterusnya, seperti contoh:"
      ],
      "id": "9a5d7957"
    },
    {
      "cell_type": "code",
      "metadata": {
        "colab": {
          "base_uri": "https://localhost:8080/"
        },
        "id": "3bc34876",
        "outputId": "74427f50-7de2-4457-fcba-ef32aec6ed93"
      },
      "source": [
        "pengukuran_terakhir=suhu_24h[-1]\n",
        "print(pengukuran_terakhir)"
      ],
      "id": "3bc34876",
      "execution_count": null,
      "outputs": [
        {
          "output_type": "stream",
          "name": "stdout",
          "text": [
            "29.0\n"
          ]
        }
      ]
    },
    {
      "cell_type": "code",
      "source": [
        "print(suhu_24h[2]==suhu_24h[-4])"
      ],
      "metadata": {
        "colab": {
          "base_uri": "https://localhost:8080/"
        },
        "id": "z8PVFBYC46kc",
        "outputId": "8a517f3a-9249-44a5-e0d6-06c1e04b7a7d"
      },
      "id": "z8PVFBYC46kc",
      "execution_count": null,
      "outputs": [
        {
          "output_type": "stream",
          "name": "stdout",
          "text": [
            "True\n"
          ]
        }
      ]
    },
    {
      "cell_type": "markdown",
      "metadata": {
        "id": "cc280bf6"
      },
      "source": [
        "Dengan `index` kita juga bisa mengambil lebih dari 1 elemen dengan tambahan simbol `:`:"
      ],
      "id": "cc280bf6"
    },
    {
      "cell_type": "code",
      "metadata": {
        "colab": {
          "base_uri": "https://localhost:8080/"
        },
        "id": "1644c497",
        "outputId": "5c19381f-06dc-4eb2-fb8f-2d5628879d0a"
      },
      "source": [
        "pengukuran_1dan2=suhu_24h[0:2]\n",
        "print(pengukuran_1dan2)"
      ],
      "id": "1644c497",
      "execution_count": null,
      "outputs": [
        {
          "output_type": "stream",
          "name": "stdout",
          "text": [
            "[34.0, 35.0]\n"
          ]
        }
      ]
    },
    {
      "cell_type": "markdown",
      "metadata": {
        "id": "8443d019"
      },
      "source": [
        "Element dalam `list` dapat diganti/*mutable* seperti pada contoh dibawah ini:"
      ],
      "id": "8443d019"
    },
    {
      "cell_type": "code",
      "source": [
        "print(suhu_24h[0])"
      ],
      "metadata": {
        "colab": {
          "base_uri": "https://localhost:8080/"
        },
        "id": "mx15tzTq5bxK",
        "outputId": "a84167b2-0473-4f2e-f299-29b6a875cd2d"
      },
      "id": "mx15tzTq5bxK",
      "execution_count": null,
      "outputs": [
        {
          "output_type": "stream",
          "name": "stdout",
          "text": [
            "34.0\n"
          ]
        }
      ]
    },
    {
      "cell_type": "code",
      "metadata": {
        "colab": {
          "base_uri": "https://localhost:8080/"
        },
        "id": "22100eef",
        "outputId": "ead783fd-2ee4-4514-98f4-d9b256fb6ca7"
      },
      "source": [
        "suhu_24h[0]=37.0\n",
        "print(suhu_24h)"
      ],
      "id": "22100eef",
      "execution_count": null,
      "outputs": [
        {
          "output_type": "stream",
          "name": "stdout",
          "text": [
            "[37.0, 35.0, 34.3, 32.0, 31.1, 29.0]\n"
          ]
        }
      ]
    },
    {
      "cell_type": "markdown",
      "metadata": {
        "id": "decd4cf9"
      },
      "source": [
        "`list` memiliki banyak sekali `method` yang digunakan untuk mengolah `list` tersebut, opsi-opsi atau `method` tersebut dapat kita lihat dengan mengetikkan `help`:"
      ],
      "id": "decd4cf9"
    },
    {
      "cell_type": "code",
      "metadata": {
        "colab": {
          "base_uri": "https://localhost:8080/"
        },
        "id": "82985ee6",
        "outputId": "1612d299-6fab-4233-c4cd-9dfa02b1d5ed"
      },
      "source": [
        "help(suhu_24h)"
      ],
      "id": "82985ee6",
      "execution_count": null,
      "outputs": [
        {
          "output_type": "stream",
          "name": "stdout",
          "text": [
            "Help on list object:\n",
            "\n",
            "class list(object)\n",
            " |  list(iterable=(), /)\n",
            " |  \n",
            " |  Built-in mutable sequence.\n",
            " |  \n",
            " |  If no argument is given, the constructor creates a new empty list.\n",
            " |  The argument must be an iterable if specified.\n",
            " |  \n",
            " |  Methods defined here:\n",
            " |  \n",
            " |  __add__(self, value, /)\n",
            " |      Return self+value.\n",
            " |  \n",
            " |  __contains__(self, key, /)\n",
            " |      Return key in self.\n",
            " |  \n",
            " |  __delitem__(self, key, /)\n",
            " |      Delete self[key].\n",
            " |  \n",
            " |  __eq__(self, value, /)\n",
            " |      Return self==value.\n",
            " |  \n",
            " |  __ge__(self, value, /)\n",
            " |      Return self>=value.\n",
            " |  \n",
            " |  __getattribute__(self, name, /)\n",
            " |      Return getattr(self, name).\n",
            " |  \n",
            " |  __getitem__(...)\n",
            " |      x.__getitem__(y) <==> x[y]\n",
            " |  \n",
            " |  __gt__(self, value, /)\n",
            " |      Return self>value.\n",
            " |  \n",
            " |  __iadd__(self, value, /)\n",
            " |      Implement self+=value.\n",
            " |  \n",
            " |  __imul__(self, value, /)\n",
            " |      Implement self*=value.\n",
            " |  \n",
            " |  __init__(self, /, *args, **kwargs)\n",
            " |      Initialize self.  See help(type(self)) for accurate signature.\n",
            " |  \n",
            " |  __iter__(self, /)\n",
            " |      Implement iter(self).\n",
            " |  \n",
            " |  __le__(self, value, /)\n",
            " |      Return self<=value.\n",
            " |  \n",
            " |  __len__(self, /)\n",
            " |      Return len(self).\n",
            " |  \n",
            " |  __lt__(self, value, /)\n",
            " |      Return self<value.\n",
            " |  \n",
            " |  __mul__(self, value, /)\n",
            " |      Return self*value.\n",
            " |  \n",
            " |  __ne__(self, value, /)\n",
            " |      Return self!=value.\n",
            " |  \n",
            " |  __repr__(self, /)\n",
            " |      Return repr(self).\n",
            " |  \n",
            " |  __reversed__(self, /)\n",
            " |      Return a reverse iterator over the list.\n",
            " |  \n",
            " |  __rmul__(self, value, /)\n",
            " |      Return value*self.\n",
            " |  \n",
            " |  __setitem__(self, key, value, /)\n",
            " |      Set self[key] to value.\n",
            " |  \n",
            " |  __sizeof__(self, /)\n",
            " |      Return the size of the list in memory, in bytes.\n",
            " |  \n",
            " |  append(self, object, /)\n",
            " |      Append object to the end of the list.\n",
            " |  \n",
            " |  clear(self, /)\n",
            " |      Remove all items from list.\n",
            " |  \n",
            " |  copy(self, /)\n",
            " |      Return a shallow copy of the list.\n",
            " |  \n",
            " |  count(self, value, /)\n",
            " |      Return number of occurrences of value.\n",
            " |  \n",
            " |  extend(self, iterable, /)\n",
            " |      Extend list by appending elements from the iterable.\n",
            " |  \n",
            " |  index(self, value, start=0, stop=9223372036854775807, /)\n",
            " |      Return first index of value.\n",
            " |      \n",
            " |      Raises ValueError if the value is not present.\n",
            " |  \n",
            " |  insert(self, index, object, /)\n",
            " |      Insert object before index.\n",
            " |  \n",
            " |  pop(self, index=-1, /)\n",
            " |      Remove and return item at index (default last).\n",
            " |      \n",
            " |      Raises IndexError if list is empty or index is out of range.\n",
            " |  \n",
            " |  remove(self, value, /)\n",
            " |      Remove first occurrence of value.\n",
            " |      \n",
            " |      Raises ValueError if the value is not present.\n",
            " |  \n",
            " |  reverse(self, /)\n",
            " |      Reverse *IN PLACE*.\n",
            " |  \n",
            " |  sort(self, /, *, key=None, reverse=False)\n",
            " |      Stable sort *IN PLACE*.\n",
            " |  \n",
            " |  ----------------------------------------------------------------------\n",
            " |  Static methods defined here:\n",
            " |  \n",
            " |  __new__(*args, **kwargs) from builtins.type\n",
            " |      Create and return a new object.  See help(type) for accurate signature.\n",
            " |  \n",
            " |  ----------------------------------------------------------------------\n",
            " |  Data and other attributes defined here:\n",
            " |  \n",
            " |  __hash__ = None\n",
            "\n"
          ]
        }
      ]
    },
    {
      "cell_type": "code",
      "source": [
        "print(suhu_24h)"
      ],
      "metadata": {
        "colab": {
          "base_uri": "https://localhost:8080/"
        },
        "id": "EQ9gEcRB5zw1",
        "outputId": "76c9f0fd-4564-4031-fce4-75c44143cdc7"
      },
      "id": "EQ9gEcRB5zw1",
      "execution_count": null,
      "outputs": [
        {
          "output_type": "stream",
          "name": "stdout",
          "text": [
            "[37.0, 35.0, 34.3, 32.0, 31.1, 29.0]\n"
          ]
        }
      ]
    },
    {
      "cell_type": "code",
      "source": [
        "suhu_24h.count(35.0)"
      ],
      "metadata": {
        "colab": {
          "base_uri": "https://localhost:8080/"
        },
        "id": "KpnXmewN6BaP",
        "outputId": "23f5ce08-b744-4798-83c7-2614b9295d68"
      },
      "id": "KpnXmewN6BaP",
      "execution_count": null,
      "outputs": [
        {
          "output_type": "execute_result",
          "data": {
            "text/plain": [
              "1"
            ]
          },
          "metadata": {},
          "execution_count": 51
        }
      ]
    },
    {
      "cell_type": "code",
      "source": [
        "suhu_24h[5] = 35.0\n",
        "print(suhu_24h)"
      ],
      "metadata": {
        "colab": {
          "base_uri": "https://localhost:8080/"
        },
        "id": "9IlfU1Ox6E_2",
        "outputId": "b3ac44d5-94d7-40a9-d095-48929d196284"
      },
      "id": "9IlfU1Ox6E_2",
      "execution_count": null,
      "outputs": [
        {
          "output_type": "stream",
          "name": "stdout",
          "text": [
            "[37.0, 35.0, 34.3, 32.0, 31.1, 35.0]\n"
          ]
        }
      ]
    },
    {
      "cell_type": "code",
      "source": [
        "suhu_24h.count(35.0)"
      ],
      "metadata": {
        "colab": {
          "base_uri": "https://localhost:8080/"
        },
        "id": "ulGnqWr16H5e",
        "outputId": "58165323-8511-4e26-a9b7-57129409b03f"
      },
      "id": "ulGnqWr16H5e",
      "execution_count": null,
      "outputs": [
        {
          "output_type": "execute_result",
          "data": {
            "text/plain": [
              "2"
            ]
          },
          "metadata": {},
          "execution_count": 54
        }
      ]
    },
    {
      "cell_type": "markdown",
      "metadata": {
        "id": "e86bc499"
      },
      "source": [
        "Berdasarkan petunjuk di atas kita akan mencoba 1 `method` yaitu `pop` yang petunjuknya adalah:\n",
        "\n",
        "```\n",
        "pop(self, index=-1, /)\n",
        " |      Remove and return item at index (default last).\n",
        "```\n",
        "\n",
        "berdasarkan petunjuk tersebut maka `pop` akan mengambil elemen list sekaligus menghapusnya dari `list` kita:"
      ],
      "id": "e86bc499"
    },
    {
      "cell_type": "code",
      "metadata": {
        "colab": {
          "base_uri": "https://localhost:8080/"
        },
        "id": "a34752a7",
        "outputId": "975a6dd1-194d-4860-88e8-55f7a65a446e"
      },
      "source": [
        "print(\"list sebelum pop\", suhu_24h)\n",
        "elemen_terhapus=suhu_24h.pop()\n",
        "print(\"elemen yang dihapus\",elemen_terhapus)\n",
        "print(\"list setelah pop\", suhu_24h)"
      ],
      "id": "a34752a7",
      "execution_count": null,
      "outputs": [
        {
          "output_type": "stream",
          "name": "stdout",
          "text": [
            "list sebelum pop [37.0, 35.0, 34.3, 32.0, 31.1, 29.0]\n",
            "elemen yang dihapus 29.0\n",
            "list setelah pop [37.0, 35.0, 34.3, 32.0, 31.1]\n"
          ]
        }
      ]
    },
    {
      "cell_type": "markdown",
      "metadata": {
        "id": "fb09de16"
      },
      "source": [
        "## 2.2 Tuple\n",
        "\n",
        "`Tuple` sangat mirip dengan `List` hanya saja `Tuple` merupakan *sequence* yang elemennya tidak bisa diganti (*immutable*). Penulisan `Tuple` dalam Python menggunakan tanda `()`:"
      ],
      "id": "fb09de16"
    },
    {
      "cell_type": "code",
      "metadata": {
        "id": "c1286713"
      },
      "source": [
        "suhu_24h_lock=(37.0, 35.0, 34.3, 32.0, 31.1, 29.0)"
      ],
      "id": "c1286713",
      "execution_count": null,
      "outputs": []
    },
    {
      "cell_type": "markdown",
      "metadata": {
        "id": "78a96cdf"
      },
      "source": [
        "Pemanggilan element sama dengan `list` yaitu menggunakan `index`:"
      ],
      "id": "78a96cdf"
    },
    {
      "cell_type": "code",
      "metadata": {
        "scrolled": true,
        "colab": {
          "base_uri": "https://localhost:8080/"
        },
        "id": "aaf3ef1a",
        "outputId": "6be5568a-6cb0-4da7-af1f-e425f3f6420c"
      },
      "source": [
        "pengukuran_1=suhu_24h_lock[0]\n",
        "print(pengukuran_1)"
      ],
      "id": "aaf3ef1a",
      "execution_count": null,
      "outputs": [
        {
          "output_type": "stream",
          "name": "stdout",
          "text": [
            "37.0\n"
          ]
        }
      ]
    },
    {
      "cell_type": "markdown",
      "metadata": {
        "id": "3e1fd6f9"
      },
      "source": [
        "Jika kita coba mengedit element dalam `tuple` maka akan muncul error:"
      ],
      "id": "3e1fd6f9"
    },
    {
      "cell_type": "code",
      "metadata": {
        "colab": {
          "base_uri": "https://localhost:8080/",
          "height": 165
        },
        "id": "5cbb618b",
        "outputId": "beddb43e-85ce-45f7-933e-42df50708939"
      },
      "source": [
        "suhu_24h_lock[0]=29.0"
      ],
      "id": "5cbb618b",
      "execution_count": null,
      "outputs": [
        {
          "output_type": "error",
          "ename": "TypeError",
          "evalue": "ignored",
          "traceback": [
            "\u001b[0;31m---------------------------------------------------------------------------\u001b[0m",
            "\u001b[0;31mTypeError\u001b[0m                                 Traceback (most recent call last)",
            "\u001b[0;32m<ipython-input-57-78847fe7475d>\u001b[0m in \u001b[0;36m<module>\u001b[0;34m()\u001b[0m\n\u001b[0;32m----> 1\u001b[0;31m \u001b[0msuhu_24h_lock\u001b[0m\u001b[0;34m[\u001b[0m\u001b[0;36m0\u001b[0m\u001b[0;34m]\u001b[0m\u001b[0;34m=\u001b[0m\u001b[0;36m29.0\u001b[0m\u001b[0;34m\u001b[0m\u001b[0;34m\u001b[0m\u001b[0m\n\u001b[0m",
            "\u001b[0;31mTypeError\u001b[0m: 'tuple' object does not support item assignment"
          ]
        }
      ]
    },
    {
      "cell_type": "markdown",
      "metadata": {
        "id": "23203363"
      },
      "source": [
        "## 2.3 Sets"
      ],
      "id": "23203363"
    },
    {
      "cell_type": "markdown",
      "metadata": {
        "id": "f42a9570"
      },
      "source": [
        "`Sets` adalah data dalam bentuk koleksi unik yang tak berurutan dan sifatnya *immutable* seperti `tuple`. Secara sederhana `sets` bisa kita artikan sebagai himpunan dalam bahasa Indonesia. Kegunaannya juga mirip seperti himpunan:"
      ],
      "id": "f42a9570"
    },
    {
      "cell_type": "code",
      "metadata": {
        "colab": {
          "base_uri": "https://localhost:8080/"
        },
        "id": "ddd18b31",
        "outputId": "8e40efdd-b3da-4a5f-fbc9-16da506dba19"
      },
      "source": [
        "Sayur={\"seledri\", \"tomat\", \"bayam\"}\n",
        "Sayur"
      ],
      "id": "ddd18b31",
      "execution_count": null,
      "outputs": [
        {
          "output_type": "execute_result",
          "data": {
            "text/plain": [
              "{'bayam', 'seledri', 'tomat'}"
            ]
          },
          "metadata": {},
          "execution_count": 105
        }
      ]
    },
    {
      "cell_type": "markdown",
      "metadata": {
        "id": "88d010e1"
      },
      "source": [
        "elemen `sets` harus unik dan tidak ada yang duplikat:"
      ],
      "id": "88d010e1"
    },
    {
      "cell_type": "code",
      "metadata": {
        "colab": {
          "base_uri": "https://localhost:8080/"
        },
        "id": "62cb1936",
        "outputId": "0b2267a3-89bd-4f7c-9d5f-5981294ba0af"
      },
      "source": [
        "Sayur={\"seledri\", \"tomat\", \"bayam\", \"tomat\"}\n",
        "Sayur"
      ],
      "id": "62cb1936",
      "execution_count": null,
      "outputs": [
        {
          "output_type": "execute_result",
          "data": {
            "text/plain": [
              "{'bayam', 'seledri', 'tomat'}"
            ]
          },
          "metadata": {},
          "execution_count": 107
        }
      ]
    },
    {
      "cell_type": "markdown",
      "metadata": {
        "id": "bb263e92"
      },
      "source": [
        "Walaupun bersifat *immutable* tapi `sets` dapat ditambah elemennya:"
      ],
      "id": "bb263e92"
    },
    {
      "cell_type": "code",
      "metadata": {
        "colab": {
          "base_uri": "https://localhost:8080/"
        },
        "id": "887930f8",
        "outputId": "0de7f87b-81b7-468d-a185-0a6b2a2d0d64"
      },
      "source": [
        "Sayur.add(\"kol\")\n",
        "Sayur"
      ],
      "id": "887930f8",
      "execution_count": null,
      "outputs": [
        {
          "output_type": "execute_result",
          "data": {
            "text/plain": [
              "{'bayam', 'kol', 'seledri', 'tomat'}"
            ]
          },
          "metadata": {},
          "execution_count": 30
        }
      ]
    },
    {
      "cell_type": "markdown",
      "metadata": {
        "id": "58eb0351"
      },
      "source": [
        "`sets` juga dapat dioperasikan dengan `sets` yang lain:"
      ],
      "id": "58eb0351"
    },
    {
      "cell_type": "code",
      "metadata": {
        "colab": {
          "base_uri": "https://localhost:8080/"
        },
        "id": "8a781372",
        "outputId": "1c7389d7-4ac0-45e7-8fbc-dea0dccb3d8f"
      },
      "source": [
        "Buah={\"tomat\",\"apel\",\"jeruk\"}\n",
        "Buah"
      ],
      "id": "8a781372",
      "execution_count": null,
      "outputs": [
        {
          "output_type": "execute_result",
          "data": {
            "text/plain": [
              "{'apel', 'jeruk', 'tomat'}"
            ]
          },
          "metadata": {},
          "execution_count": 31
        }
      ]
    },
    {
      "cell_type": "markdown",
      "metadata": {
        "id": "cd80174a"
      },
      "source": [
        "dalam contoh pertama kita akan melihat elemen dari dua `sets` yang sama dengan method `intersection`:"
      ],
      "id": "cd80174a"
    },
    {
      "cell_type": "code",
      "metadata": {
        "colab": {
          "base_uri": "https://localhost:8080/"
        },
        "id": "82db5305",
        "outputId": "c9974363-04ef-4c68-cffd-fac5d6a018b5"
      },
      "source": [
        "Sayur.intersection(Buah)"
      ],
      "id": "82db5305",
      "execution_count": null,
      "outputs": [
        {
          "output_type": "execute_result",
          "data": {
            "text/plain": [
              "{'tomat'}"
            ]
          },
          "metadata": {},
          "execution_count": 108
        }
      ]
    },
    {
      "cell_type": "markdown",
      "metadata": {
        "id": "dd59402d"
      },
      "source": [
        "Dari contoh di atas kita seperti mencari irisan dari dua buah himpunan yaitu Sayur dan Buah, karena tomat masuk keduanya maka tomat adalah irisannya. Contoh selanjutnya adalah dengan metode `difference` dan `union`kira-kira apa yang terjadi?"
      ],
      "id": "dd59402d"
    },
    {
      "cell_type": "code",
      "metadata": {
        "colab": {
          "base_uri": "https://localhost:8080/"
        },
        "id": "c5a1d543",
        "outputId": "34bd2700-8163-4ad1-9adc-d776b4a314b4"
      },
      "source": [
        "Sayur.difference(Buah)"
      ],
      "id": "c5a1d543",
      "execution_count": null,
      "outputs": [
        {
          "output_type": "execute_result",
          "data": {
            "text/plain": [
              "{'bayam', 'seledri'}"
            ]
          },
          "metadata": {},
          "execution_count": 109
        }
      ]
    },
    {
      "cell_type": "code",
      "metadata": {
        "colab": {
          "base_uri": "https://localhost:8080/"
        },
        "id": "def089d4",
        "outputId": "013fd399-57e0-42eb-b3d2-c6bc549556d5"
      },
      "source": [
        "Sayur.union(Buah)"
      ],
      "id": "def089d4",
      "execution_count": null,
      "outputs": [
        {
          "output_type": "execute_result",
          "data": {
            "text/plain": [
              "{'apel', 'bayam', 'jeruk', 'seledri', 'tomat'}"
            ]
          },
          "metadata": {},
          "execution_count": 110
        }
      ]
    },
    {
      "cell_type": "markdown",
      "metadata": {
        "id": "5e213b42"
      },
      "source": [
        "## 2.4 Dictionary\n",
        "\n",
        "`Dictionary` menyimpan data di dalam `keys` bersifat alfanumerik, `keys` bisa dianalogikan sebagai sebuah judul kolom yang masing-masing kolom tersebut terdapat data. Penulisan `dictionary` mirip dengan `sets` yaitu menggunakan `{}`. Dalam contoh di bawah ini masih menggunakan studi kasus pengukuran suhu, dengan `dictionary` kita dapat mendefinisikan data lain yaitu waktu pengukuran dalam menit:"
      ],
      "id": "5e213b42"
    },
    {
      "cell_type": "code",
      "metadata": {
        "colab": {
          "base_uri": "https://localhost:8080/"
        },
        "id": "5b986dde",
        "outputId": "f683104c-de08-4ffc-9f6a-db83a4a0c9b8"
      },
      "source": [
        "pengukuran_suhu={\"waktu_menit\":[10,20,30], \"suhu\":[29,30,27], \"operator\":\"Kaka\"}\n",
        "print(pengukuran_suhu)"
      ],
      "id": "5b986dde",
      "execution_count": null,
      "outputs": [
        {
          "output_type": "stream",
          "name": "stdout",
          "text": [
            "{'waktu_menit': [10, 20, 30], 'suhu': [29, 30, 27], 'operator': 'Kaka'}\n"
          ]
        }
      ]
    },
    {
      "cell_type": "markdown",
      "metadata": {
        "id": "6f9c46c8"
      },
      "source": [
        "Jika dalam `list` dan dalam `tuple` kita bisa mengambil elemen dengan menggunakan indeks, dalam `dictionary` kita menggunakan `keys` dari data yang akan kita ambil. Apabila kita ingin mengambil data waktu pengukuran maka kita menggunakan `keys` `waktu_menit`:"
      ],
      "id": "6f9c46c8"
    },
    {
      "cell_type": "code",
      "metadata": {
        "colab": {
          "base_uri": "https://localhost:8080/"
        },
        "id": "9bfde658",
        "outputId": "59721ee1-f4b8-45e9-ec85-2994ff62b579"
      },
      "source": [
        "waktu_pengukuran=pengukuran_suhu['waktu_menit']\n",
        "waktu_pengukuran"
      ],
      "id": "9bfde658",
      "execution_count": null,
      "outputs": [
        {
          "output_type": "execute_result",
          "data": {
            "text/plain": [
              "[10, 20, 30]"
            ]
          },
          "metadata": {},
          "execution_count": 59
        }
      ]
    },
    {
      "cell_type": "markdown",
      "metadata": {
        "id": "45e10d29"
      },
      "source": [
        "Dengan memanggil `waktu_pengukuran` kita mendapatkan isi dari `key` tersebut yang berupa `list`, seperti yang kita definisikan di atas."
      ],
      "id": "45e10d29"
    },
    {
      "cell_type": "markdown",
      "metadata": {
        "id": "3a9a648a"
      },
      "source": [
        "# 3 Conditional (Pembuatan Keputusan)\n",
        "\n",
        "Pada pembuatan suatu aplikasi pasti akan sampai dalam sebuah titik dimana kita harus mengambil keputusan dan harus memilih satu dari beberapa pilihan tergantung kondisi. Dalam implementasinya kita akan mengenal `if`, `elif`, dan `else`:"
      ],
      "id": "3a9a648a"
    },
    {
      "cell_type": "code",
      "metadata": {
        "colab": {
          "base_uri": "https://localhost:8080/"
        },
        "id": "90fcbaf6",
        "outputId": "538925bb-a438-48c7-cba6-1bed837b3df1"
      },
      "source": [
        "waktu_menit=20\n",
        "\n",
        "if waktu_menit > 60:\n",
        "    print(\"pengukuran lebih dari 1 jam\")\n",
        "    print(\"operator: Kaka\")\n",
        "elif waktu_menit > 30:\n",
        "    print(\"pengukuran lebih dari 0.5 jam\")\n",
        "# else:\n",
        "#     print(\"pengukuran kurang dari 0.5 jam\")\n",
        "\n",
        "print(\"test\")"
      ],
      "id": "90fcbaf6",
      "execution_count": null,
      "outputs": [
        {
          "output_type": "stream",
          "name": "stdout",
          "text": [
            "test\n"
          ]
        }
      ]
    },
    {
      "cell_type": "markdown",
      "metadata": {
        "id": "0f975abd"
      },
      "source": [
        "Pada contoh di atas kita membuat variabel `waktu_menit`, apabila nilai dalam variabel tersebut melebihi 60 menit (`if waktu_menit > 60`) maka akan dicetak tulisan: `pengukuran lebih dari 1 jam`. Jika waktu kurang dari 60 maka tidak akan terjadi apa-apa:"
      ],
      "id": "0f975abd"
    },
    {
      "cell_type": "code",
      "metadata": {
        "id": "b90ff036"
      },
      "source": [
        "waktu_menit=10\n",
        "\n",
        "if waktu_menit > 60:\n",
        "    print(\"pengukuran lebih dari 1 jam\")"
      ],
      "id": "b90ff036",
      "execution_count": null,
      "outputs": []
    },
    {
      "cell_type": "markdown",
      "metadata": {
        "id": "7ccfcab8"
      },
      "source": [
        "Kita bisa menambah percabangan lagi dengan `else` apabila `waktu_menit` tidak lebih besar dari 60:"
      ],
      "id": "7ccfcab8"
    },
    {
      "cell_type": "code",
      "metadata": {
        "colab": {
          "base_uri": "https://localhost:8080/"
        },
        "id": "90c6fa26",
        "outputId": "f2498a09-579b-4e45-a937-f8eb6769f77b"
      },
      "source": [
        "waktu_menit=10\n",
        "\n",
        "if waktu_menit > 60:\n",
        "    print(\"pengukuran lebih dari 1 jam\")\n",
        "else:\n",
        "    print(\"pengukuran kurang dari 1 jam\")"
      ],
      "id": "90c6fa26",
      "execution_count": null,
      "outputs": [
        {
          "output_type": "stream",
          "name": "stdout",
          "text": [
            "pengukuran kurang dari 1 jam\n"
          ]
        }
      ]
    },
    {
      "cell_type": "markdown",
      "metadata": {
        "id": "a84c21a2"
      },
      "source": [
        "Untuk percabangan yang lebih dari 2 maka kita perlu menggunakan `elif` atau else-if:"
      ],
      "id": "a84c21a2"
    },
    {
      "cell_type": "code",
      "metadata": {
        "colab": {
          "base_uri": "https://localhost:8080/"
        },
        "id": "f0b264b4",
        "outputId": "186e5c1a-36d8-4f73-af9c-31a04fc19b79"
      },
      "source": [
        "waktu_menit=60\n",
        "\n",
        "if waktu_menit > 60:\n",
        "    print(\"pengukuran lebih dari 1 jam\")\n",
        "elif waktu_menit == 60:\n",
        "    print(\"pengukuran tepat 1 jam\")\n",
        "else:\n",
        "    print(\"pengukuran kurang dari 1 jam\")"
      ],
      "id": "f0b264b4",
      "execution_count": null,
      "outputs": [
        {
          "output_type": "stream",
          "name": "stdout",
          "text": [
            "pengukuran tepat 1 jam\n"
          ]
        }
      ]
    },
    {
      "cell_type": "markdown",
      "metadata": {
        "id": "b5c90937"
      },
      "source": [
        "`Conditional` ini dapat bertingkat (`nested`), contoh apabila pengukuran selesai setelah 120 menit atau 2 jam:"
      ],
      "id": "b5c90937"
    },
    {
      "cell_type": "code",
      "metadata": {
        "colab": {
          "base_uri": "https://localhost:8080/"
        },
        "id": "0065a8e0",
        "outputId": "87ff4ee8-aa30-43d4-a6e2-d0712738253f"
      },
      "source": [
        "waktu_menit=130\n",
        "timer_off=120\n",
        "\n",
        "if waktu_menit > 60:\n",
        "    if waktu_menit < timer_off:\n",
        "        print(\"pengukuran lebih dari 1 jam\")\n",
        "    else:\n",
        "        print(\"pengukuran selesai karena sudah 2 jam\")\n",
        "elif waktu_menit == 60:\n",
        "    print(\"pengukuran tepat 1 jam\")\n",
        "else:\n",
        "    print(\"pengukuran kurang dari 1 jam\")"
      ],
      "id": "0065a8e0",
      "execution_count": null,
      "outputs": [
        {
          "output_type": "stream",
          "name": "stdout",
          "text": [
            "pengukuran selesai karena sudah 2 jam\n"
          ]
        }
      ]
    },
    {
      "cell_type": "markdown",
      "source": [
        "# Penugasan\n",
        "1. Buatlah 3 rumus fisika dasar dan operasikan rumus tersebut berdasarkan input yang kalian tentukan sendiri \n",
        "\n",
        "\n"
      ],
      "metadata": {
        "id": "ckn8nmVTwuOG"
      },
      "id": "ckn8nmVTwuOG"
    },
    {
      "cell_type": "code",
      "source": [
        "#Contoh Rumus Sederhana\n",
        "\n",
        "a=float(input('masukan alas:'))\n",
        "t=float(input('masukan tinggi:'))\n",
        "b=0.5*a*t\n",
        "print('luas=',b)\n"
      ],
      "metadata": {
        "colab": {
          "base_uri": "https://localhost:8080/"
        },
        "id": "ECEDw1ny0MeJ",
        "outputId": "e42ab98a-e694-448a-8028-98925cf65dba"
      },
      "id": "ECEDw1ny0MeJ",
      "execution_count": null,
      "outputs": [
        {
          "output_type": "stream",
          "name": "stdout",
          "text": [
            "masukan alas:12\n",
            "masukan tinggi:10\n",
            "luas= 60.0\n"
          ]
        }
      ]
    },
    {
      "cell_type": "markdown",
      "source": [
        "2. Cobalah buat perumpamaan (if-else) dengan permasalahan sederhana."
      ],
      "metadata": {
        "id": "j68pvXMiETh7"
      },
      "id": "j68pvXMiETh7"
    },
    {
      "cell_type": "code",
      "source": [
        "#Contoh\n",
        "\n",
        "a=float(input('angka:'))\n",
        "if a % 2==0:\n",
        "  print('genap')\n",
        "else:\n",
        "  print('gempi') "
      ],
      "metadata": {
        "colab": {
          "base_uri": "https://localhost:8080/"
        },
        "id": "jzhY0rWx10X2",
        "outputId": "a9d72957-1eeb-450d-eafa-5d3f5f6ea121"
      },
      "id": "jzhY0rWx10X2",
      "execution_count": null,
      "outputs": [
        {
          "output_type": "stream",
          "name": "stdout",
          "text": [
            "angka:12\n",
            "genap\n"
          ]
        }
      ]
    },
    {
      "cell_type": "markdown",
      "source": [
        "3. Buatlah list sederhana berisikan minimal data diri 20 orang random yang berisi [Nama, Umur, TB, BB]. Kemudian lakukan operasi if-else sederhana untuk memfilter data dari list orang-orang yang anda buat."
      ],
      "metadata": {
        "id": "-sImq6B6F113"
      },
      "id": "-sImq6B6F113"
    },
    {
      "cell_type": "markdown",
      "metadata": {
        "id": "d70txVpGGb5L"
      },
      "source": [
        "## Lisensi\n",
        "\n",
        " [![CC BY 4.0][cc-by-shield]][cc-by]\n",
        "\n",
        "Material ini di bawah lisensi [Creative Commons Attribution 4.0 International License][cc-by].\n",
        "\n",
        "[cc-by]: http://creativecommons.org/licenses/by/4.0/\n",
        "[cc-by-image]: https://i.creativecommons.org/l/by/4.0/88x31.png\n",
        "[cc-by-shield]: https://img.shields.io/badge/License-CC%20BY%204.0-lightgrey.svg\n"
      ],
      "id": "d70txVpGGb5L"
    },
    {
      "cell_type": "markdown",
      "metadata": {
        "id": "cu0A9fL_JzRK"
      },
      "source": [
        "## Referensi\n",
        "\n",
        "Lisa Tauxe, ltauxe@ucsd.edu, Hanna Asefaw, hasefaw@ucs.dedu, & Brendan Cych, bcych@ucsd.edu, Python Programming for Earth Science Students, Repository: https://github.com/ltauxe/Python-for-Earth-Science-Students"
      ],
      "id": "cu0A9fL_JzRK"
    }
  ]
}
